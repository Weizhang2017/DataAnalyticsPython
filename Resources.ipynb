{
 "cells": [
  {
   "cell_type": "markdown",
   "metadata": {},
   "source": [
    "#### Shopee chanllenge resources:  \n",
    "##### Previous challenges:\n",
    "- National Data Science Challenge 2019  \n",
    "    - [Product Category Classification](https://www.kaggle.com/c/ndsc-advanced/data)  \n",
    "    - [Product Information Extraction](https://www.kaggle.com/c/ndsc-advanced/data)\n",
    "    - Github repo: https://github.com/YeeeeeHan/National-Data-Science-Challenge\n",
    "    - Medium article: [Object Detection for Product Images by Shopee](https://medium.com/@yxlee245/object-detection-for-product-images-by-shopee-fbaa640e5de0)\n",
    "\n",
    "- [Shopee-IET Machine Learning Competition](https://www.kaggle.com/c/shopee-iet-machine-learning-competition/overview)\n",
    "    - Github repo: https://github.com/hardianlawi/Shopee-IET-ML-Competition\n",
    "\n",
    "##### Workshop：\n",
    "- [Best Coder x YiDu AI Open Training Workshop on 28 September 2019](https://drive.google.com/file/d/0B1PT3t1Qom7AZjFRZ2xoeXJWZ0FSZTI5NXMzWXR1Wjd3MzdF/view?usp=sharing)\n",
    "- [Data Analytics Samples](https://drive.google.com/file/d/0B1PT3t1Qom7AU0ZPZFR0SXk0eDVHNmRoYnJzaG12VVlNaV9r/view?usp=sharing)"
   ]
  },
  {
   "cell_type": "code",
   "execution_count": null,
   "metadata": {
    "collapsed": true
   },
   "outputs": [],
   "source": []
  }
 ],
 "metadata": {
  "kernelspec": {
   "display_name": "venv",
   "language": "python",
   "name": "venv"
  },
  "language_info": {
   "codemirror_mode": {
    "name": "ipython",
    "version": 3
   },
   "file_extension": ".py",
   "mimetype": "text/x-python",
   "name": "python",
   "nbconvert_exporter": "python",
   "pygments_lexer": "ipython3",
   "version": "3.7.0"
  }
 },
 "nbformat": 4,
 "nbformat_minor": 2
}
