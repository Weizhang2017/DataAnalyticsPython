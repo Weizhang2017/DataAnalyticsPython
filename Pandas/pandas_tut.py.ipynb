{
 "cells": [
  {
   "cell_type": "code",
   "execution_count": 13,
   "metadata": {},
   "outputs": [],
   "source": [
    "import pandas as pd\n",
    "import numpy as np"
   ]
  },
  {
   "cell_type": "markdown",
   "metadata": {},
   "source": [
    "### Pandas Data Structure\n",
    "#### 1.1 Create Series from list"
   ]
  },
  {
   "cell_type": "code",
   "execution_count": 14,
   "metadata": {},
   "outputs": [
    {
     "name": "stdout",
     "output_type": "stream",
     "text": [
      "[1 2 3 4]\n",
      "RangeIndex(start=0, stop=4, step=1)\n",
      "================================================================\n",
      "Index(['q', 'w', 'e', 'r'], dtype='object')\n",
      "1\n",
      "================================================================\n",
      "e    3\n",
      "r    4\n",
      "dtype: int64\n",
      "================================================================\n",
      "q    2\n",
      "w    4\n",
      "e    6\n",
      "r    8\n",
      "dtype: int64\n",
      "================================================================\n",
      "q     2.718282\n",
      "w     7.389056\n",
      "e    20.085537\n",
      "r    54.598150\n",
      "dtype: float64\n"
     ]
    }
   ],
   "source": [
    "obj = pd.Series([1,2,3,4])\n",
    "print(obj.values)\n",
    "print(obj.index)\n",
    "print('='*64)\n",
    "obj = pd.Series([1,2,3,4], index=['q', 'w', 'e', 'r'])\n",
    "print(obj.index)\n",
    "print(obj['q'])\n",
    "print('='*64)\n",
    "print(obj[obj>=3])\n",
    "print('='*64)\n",
    "print(obj * 2)\n",
    "print('='*64)\n",
    "print(np.exp(obj))"
   ]
  },
  {
   "cell_type": "markdown",
   "metadata": {},
   "source": [
    "#### 1.2 Create Series from dictionary"
   ]
  },
  {
   "cell_type": "code",
   "execution_count": 30,
   "metadata": {},
   "outputs": [
    {
     "name": "stdout",
     "output_type": "stream",
     "text": [
      "1    a\n",
      "1    b\n",
      "dtype: object\n",
      "Index(['1', 1], dtype='object')\n",
      "b a\n",
      "================================================================\n",
      "1      b\n",
      "2    NaN\n",
      "dtype: object\n",
      "1    False\n",
      "2     True\n",
      "dtype: bool\n",
      "================================================================\n",
      "1    a\n",
      "1    b\n",
      "dtype: object\n",
      "================================================================\n",
      "1     bb\n",
      "2    NaN\n",
      "1    NaN\n",
      "dtype: object\n"
     ]
    }
   ],
   "source": [
    "dic = {'1': 'a', 1: 'b'}\n",
    "obj = pd.Series(dic)\n",
    "print(obj)\n",
    "print(obj.index)\n",
    "print(obj[1], obj['1'])\n",
    "print('='*64)\n",
    "obj = pd.Series(dic, index=[1, 2])\n",
    "print(obj)\n",
    "print(obj.isnull())\n",
    "print('='*64)\n",
    "obj2 = pd.Series(dic, index=['1', 1])\n",
    "print(obj2)\n",
    "print('='*64)\n",
    "print(obj+obj2)\n",
    "print('='*64)\n",
    "ob"
   ]
  },
  {
   "cell_type": "code",
   "execution_count": null,
   "metadata": {},
   "outputs": [],
   "source": []
  },
  {
   "cell_type": "code",
   "execution_count": null,
   "metadata": {},
   "outputs": [],
   "source": []
  }
 ],
 "metadata": {
  "kernelspec": {
   "display_name": "Python 3",
   "language": "python",
   "name": "python3"
  },
  "language_info": {
   "codemirror_mode": {
    "name": "ipython",
    "version": 3
   },
   "file_extension": ".py",
   "mimetype": "text/x-python",
   "name": "python",
   "nbconvert_exporter": "python",
   "pygments_lexer": "ipython3",
   "version": "3.7.2"
  }
 },
 "nbformat": 4,
 "nbformat_minor": 2
}
