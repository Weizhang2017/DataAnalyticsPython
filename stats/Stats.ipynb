{
 "cells": [
  {
   "cell_type": "code",
   "execution_count": 29,
   "metadata": {},
   "outputs": [],
   "source": [
    "import statsmodels.api as sm\n",
    "import numpy as np"
   ]
  },
  {
   "cell_type": "code",
   "execution_count": 91,
   "metadata": {},
   "outputs": [],
   "source": [
    "def dnorm(mean, variance, size=1):\n",
    "    if isinstance(size, int):\n",
    "        size = size,\n",
    "    return mean + np.sqrt(variance)*np.random.randn(*size)\n",
    "\n",
    "np.random.seed(12345)\n",
    "N = 50\n",
    "x1 = np.linspace(0, 30, N)\n",
    "x2 = np.sin(x1)\n",
    "x3 = (x1 + 2)**2\n",
    "X = np.c_[x1, x2, x3]\n",
    "eps = dnorm(0, 50, size=N)\n",
    "beta = [0.1, 0.3, 0.5]\n",
    "y_true = np.dot(X, beta)\n",
    "y = y_true + eps"
   ]
  },
  {
   "cell_type": "code",
   "execution_count": 92,
   "metadata": {},
   "outputs": [
    {
     "name": "stdout",
     "output_type": "stream",
     "text": [
      "                            OLS Regression Results                            \n",
      "==============================================================================\n",
      "Dep. Variable:                      y   R-squared:                       0.999\n",
      "Model:                            OLS   Adj. R-squared:                  0.999\n",
      "Method:                 Least Squares   F-statistic:                 1.541e+04\n",
      "Date:                Sat, 19 Oct 2019   Prob (F-statistic):           2.54e-70\n",
      "Time:                        13:20:25   Log-Likelihood:                -172.64\n",
      "No. Observations:                  50   AIC:                             351.3\n",
      "Df Residuals:                      47   BIC:                             357.0\n",
      "Df Model:                           3                                         \n",
      "Covariance Type:            nonrobust                                         \n",
      "==============================================================================\n",
      "                 coef    std err          t      P>|t|      [0.025      0.975]\n",
      "------------------------------------------------------------------------------\n",
      "x1             0.2866      0.305      0.938      0.353      -0.328       0.901\n",
      "x2            -1.7074      1.578     -1.082      0.285      -4.882       1.467\n",
      "x3             0.4897      0.011     44.125      0.000       0.467       0.512\n",
      "==============================================================================\n",
      "Omnibus:                        2.969   Durbin-Watson:                   1.840\n",
      "Prob(Omnibus):                  0.227   Jarque-Bera (JB):                2.022\n",
      "Skew:                           0.304   Prob(JB):                        0.364\n",
      "Kurtosis:                       3.775   Cond. No.                         679.\n",
      "==============================================================================\n",
      "\n",
      "Warnings:\n",
      "[1] Standard Errors assume that the covariance matrix of the errors is correctly specified.\n"
     ]
    }
   ],
   "source": [
    "model = sm.OLS(y, X)\n",
    "result = model.fit()\n",
    "print(result.summary())"
   ]
  },
  {
   "cell_type": "code",
   "execution_count": 89,
   "metadata": {},
   "outputs": [],
   "source": [
    "x4 = np.linspace(30,40,20)\n",
    "x5 = np.sin(x4)\n",
    "x6 = (x4 + 2)**2\n",
    "X_new = np.c_[x4, x5, x6]\n",
    "y_predicted = result.predict(X_new)"
   ]
  },
  {
   "cell_type": "code",
   "execution_count": 100,
   "metadata": {},
   "outputs": [
    {
     "data": {
      "image/png": "[encoded data removed]",
      "text/plain": [
       "<matplotlib.figure.Figure at 0x119672470>"
      ]
     },
     "metadata": {},
     "output_type": "display_data"
    }
   ],
   "source": [
    "import matplotlib.pyplot as plt\n",
    "\n",
    "fig, ax = plt.subplots()\n",
    "ax.plot(x1, y, '.', label=\"Data\")\n",
    "ax.plot(x1, y_true, 'b-', label=\"True\")\n",
    "ax.plot(np.hstack(x4), np.hstack(y_predicted), 'r', label=\"OLS prediction\")\n",
    "ax.legend(loc=\"best\");"
   ]
  }
 ],
 "metadata": {
  "kernelspec": {
   "display_name": "Python 3",
   "language": "python",
   "name": "python3"
  },
  "language_info": {
   "codemirror_mode": {
    "name": "ipython",
    "version": 3
   },
   "file_extension": ".py",
   "mimetype": "text/x-python",
   "name": "python",
   "nbconvert_exporter": "python",
   "pygments_lexer": "ipython3",
   "version": "3.6.3"
  }
 },
 "nbformat": 4,
 "nbformat_minor": 2
}
