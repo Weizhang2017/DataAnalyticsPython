{
 "cells": [
  {
   "cell_type": "code",
   "execution_count": 14,
   "metadata": {},
   "outputs": [],
   "source": [
    "import numpy as np"
   ]
  },
  {
   "cell_type": "markdown",
   "metadata": {},
   "source": [
    "#### Faster than list"
   ]
  },
  {
   "cell_type": "code",
   "execution_count": 18,
   "metadata": {},
   "outputs": [
    {
     "name": "stdout",
     "output_type": "stream",
     "text": [
      "0:00:00.000093\n",
      "0:00:00.001718\n"
     ]
    }
   ],
   "source": [
    "import datetime\n",
    "\n",
    "my_arr = np.arange(10000)\n",
    "my_list = list(my_arr)\n",
    "start = datetime.datetime.now()    \n",
    "my_arr2 = my_arr * 2\n",
    "print(datetime.datetime.now() - start)\n",
    "start = datetime.datetime.now()    \n",
    "my_list2 = [x * 2 for x in my_list]\n",
    "print(datetime.datetime.now() - start)"
   ]
  },
  {
   "cell_type": "markdown",
   "metadata": {},
   "source": [
    "#### Multidimensional array"
   ]
  },
  {
   "cell_type": "code",
   "execution_count": 22,
   "metadata": {},
   "outputs": [
    {
     "name": "stdout",
     "output_type": "stream",
     "text": [
      "[[-0.82311546  0.08390213  0.48528978]\n",
      " [ 2.18552482 -2.15143216 -0.36763729]]\n",
      "[[ -8.23115459   0.83902132   4.85289775]\n",
      " [ 21.85524816 -21.51432161  -3.67637288]]\n",
      "[[-1.64623092  0.16780426  0.97057955]\n",
      " [ 4.37104963 -4.30286432 -0.73527458]]\n",
      "(2, 3)\n",
      "float64\n"
     ]
    }
   ],
   "source": [
    "data = np.random.randn(2, 3)\n",
    "print(data)\n",
    "print(data * 10)\n",
    "print(data + data)\n",
    "print(data.shape)\n",
    "print(data.dtype)"
   ]
  },
  {
   "cell_type": "markdown",
   "metadata": {},
   "source": [
    "#### Creating ndarrays"
   ]
  },
  {
   "cell_type": "code",
   "execution_count": 35,
   "metadata": {},
   "outputs": [
    {
     "name": "stdout",
     "output_type": "stream",
     "text": [
      "[[1 2 3 4]\n",
      " [1 2 3 4]]\n",
      "2\n",
      "(2, 4)\n",
      "[[ 0.  0.]\n",
      " [ 0.  0.]\n",
      " [ 0.  0.]]\n",
      "[[ 0.  0.]\n",
      " [ 0.  0.]\n",
      " [ 0.  0.]]\n",
      "[ 0  1  2  3  4  5  6  7  8  9 10 11 12 13 14]\n"
     ]
    }
   ],
   "source": [
    "data = [[1,2,3,4], [1,2,3,4]]\n",
    "arr = np.array(data)\n",
    "print(arr)\n",
    "print(arr.ndim)\n",
    "print(arr.shape)\n",
    "\n",
    "print(np.zeros((3,2)))\n",
    "\n",
    "print(np.empty((3,2)))\n",
    "\n",
    "print(np.arange(15))"
   ]
  },
  {
   "cell_type": "markdown",
   "metadata": {},
   "source": [
    "#### Data types"
   ]
  },
  {
   "cell_type": "code",
   "execution_count": 49,
   "metadata": {},
   "outputs": [
    {
     "name": "stdout",
     "output_type": "stream",
     "text": [
      "[ 1.  2.  3.]\n",
      "[ 1.1  2.1  3.1]\n",
      "float64\n",
      "[1 2 3] int32\n"
     ]
    }
   ],
   "source": [
    "arr = np.array([1,2,3], dtype=np.float64)\n",
    "print(arr)\n",
    "arr2 = np.array([1.1,2.1,3.1])\n",
    "print(arr2)\n",
    "\n",
    "print(arr2.dtype)\n",
    "arr3 = arr2.astype(np.int32)\n",
    "print(arr3, arr3.dtype)"
   ]
  },
  {
   "cell_type": "markdown",
   "metadata": {},
   "source": [
    "#### Arithmetic operations"
   ]
  },
  {
   "cell_type": "code",
   "execution_count": 59,
   "metadata": {},
   "outputs": [
    {
     "name": "stdout",
     "output_type": "stream",
     "text": [
      "[[ 1  4  9]\n",
      " [16 25 36]]\n",
      "[[ 1.          0.5         0.33333333]\n",
      " [ 0.25        0.2         0.16666667]]\n",
      "[[False False False]\n",
      " [ True  True  True]]\n"
     ]
    }
   ],
   "source": [
    "arr = np.array([[1,2,3], [4,5,6]])\n",
    "print(arr ** 2)\n",
    "print(1 / arr)\n",
    "print(arr > 3)"
   ]
  },
  {
   "cell_type": "markdown",
   "metadata": {},
   "source": [
    "#### Basic Indexing and Slicing"
   ]
  },
  {
   "cell_type": "code",
   "execution_count": 81,
   "metadata": {},
   "outputs": [
    {
     "name": "stdout",
     "output_type": "stream",
     "text": [
      "5\n",
      "[0 1 2 3 4] [1 2 3 4]\n",
      "[0 0 0 0 0 0 0 0 0 0]\n",
      "================================================================\n",
      "[1]\n",
      "[0 1 0 0 0 0 0 0 0 0]\n",
      "================================================================\n",
      "[4 5 6] 5\n",
      "[2 5]\n"
     ]
    }
   ],
   "source": [
    "arr = np.arange(10)\n",
    "print(arr[5])\n",
    "print(arr[:5], arr[1:5])\n",
    "arr[:] = 0\n",
    "print(arr)\n",
    "\n",
    "print('='*64)\n",
    "\n",
    "# numpy does not copy data\n",
    "arr2 = arr[1:2]\n",
    "arr2[:] = 1\n",
    "print(arr2)\n",
    "print(arr)\n",
    "\n",
    "print('='*64)\n",
    "\n",
    "arr2d = np.array([[1,2,3], [4,5,6]])\n",
    "print(arr2d[1], arr2d[1,1])\n",
    "print(arr2d[:,1])"
   ]
  },
  {
   "cell_type": "markdown",
   "metadata": {},
   "source": [
    "#### Boolean Indexing"
   ]
  },
  {
   "cell_type": "code",
   "execution_count": null,
   "metadata": {},
   "outputs": [],
   "source": []
  }
 ],
 "metadata": {
  "kernelspec": {
   "display_name": "Python 3",
   "language": "python",
   "name": "python3"
  },
  "language_info": {
   "codemirror_mode": {
    "name": "ipython",
    "version": 3
   },
   "file_extension": ".py",
   "mimetype": "text/x-python",
   "name": "python",
   "nbconvert_exporter": "python",
   "pygments_lexer": "ipython3",
   "version": "3.6.3"
  }
 },
 "nbformat": 4,
 "nbformat_minor": 2
}
